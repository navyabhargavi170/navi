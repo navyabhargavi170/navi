{
 "cells": [
  {
   "cell_type": "markdown",
   "id": "11020e8b",
   "metadata": {},
   "source": [
    "# COLATZ SEQUENCE"
   ]
  },
  {
   "cell_type": "code",
   "execution_count": 28,
   "id": "e5ec9dc2",
   "metadata": {},
   "outputs": [
    {
     "name": "stdout",
     "output_type": "stream",
     "text": [
      "3\n",
      "10\n",
      "5\n",
      "16\n",
      "8\n",
      "4\n",
      "2\n",
      "1\n"
     ]
    }
   ],
   "source": [
    "def colatz(num):\n",
    "    while (num!=1):\n",
    "        print(num)\n",
    "        if num%2==0:\n",
    "            num = num//2\n",
    "        else:\n",
    "            num=3*num+1\n",
    "    print(num)\n",
    "        \n",
    "colatz(3)"
   ]
  },
  {
   "cell_type": "code",
   "execution_count": null,
   "id": "cb2f7184",
   "metadata": {},
   "outputs": [],
   "source": []
  }
 ],
 "metadata": {
  "kernelspec": {
   "display_name": "Python 3 (ipykernel)",
   "language": "python",
   "name": "python3"
  },
  "language_info": {
   "codemirror_mode": {
    "name": "ipython",
    "version": 3
   },
   "file_extension": ".py",
   "mimetype": "text/x-python",
   "name": "python",
   "nbconvert_exporter": "python",
   "pygments_lexer": "ipython3",
   "version": "3.9.7"
  }
 },
 "nbformat": 4,
 "nbformat_minor": 5
}
