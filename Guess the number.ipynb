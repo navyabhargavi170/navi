{
 "cells": [
  {
   "cell_type": "markdown",
   "id": "152bb1a7",
   "metadata": {},
   "source": [
    "# Guess The Number "
   ]
  },
  {
   "cell_type": "code",
   "execution_count": null,
   "id": "3ca9d16d",
   "metadata": {
    "scrolled": true
   },
   "outputs": [],
   "source": [
    "import random\n",
    "print(\"WELCOME TO THE GUESS THE NUMBER\")\n",
    "NAME = input(\"enter your name : \")\n",
    "print(\"Hello {},Welcome to the game\".format(NAME))\n",
    "GAME = input(\"You want to start the game(Yes/no): \").lower()\n",
    "if GAME=='yes':\n",
    "    print(\"Let's guess the number : \")\n",
    "    print(\"Guess Number between 0-10\")\n",
    "    secret_number = random.randint(0,10)\n",
    "    for guesstaken in range(1,4):\n",
    "        print(\"Enter guess number below\")\n",
    "        guess = int(input())\n",
    "        \n",
    "        if guess == secret_number:\n",
    "            print(\"Wow,your guess was right\")\n",
    "            break\n",
    "        elif guess < secret_number:\n",
    "            print(\"the number is low\")\n",
    "        elif guess >secret_number:\n",
    "            print(\"the number is too high\")\n",
    "        else:\n",
    "            break  \n",
    "    print(\"The number you didnt guess was\" +\" \"+str(secret_number))\n",
    "\n",
    "else:\n",
    "    print(\"Thank you for visiting {}\".format(NAME))\n",
    "\n"
   ]
  },
  {
   "cell_type": "code",
   "execution_count": null,
   "id": "15e54f97",
   "metadata": {},
   "outputs": [],
   "source": []
  }
 ],
 "metadata": {
  "kernelspec": {
   "display_name": "Python 3 (ipykernel)",
   "language": "python",
   "name": "python3"
  },
  "language_info": {
   "codemirror_mode": {
    "name": "ipython",
    "version": 3
   },
   "file_extension": ".py",
   "mimetype": "text/x-python",
   "name": "python",
   "nbconvert_exporter": "python",
   "pygments_lexer": "ipython3",
   "version": "3.9.7"
  }
 },
 "nbformat": 4,
 "nbformat_minor": 5
}
