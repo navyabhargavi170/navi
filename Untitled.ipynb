{
 "cells": [
  {
   "cell_type": "code",
   "execution_count": 1,
   "metadata": {},
   "outputs": [
    {
     "name": "stdout",
     "output_type": "stream",
     "text": [
      "navya\n"
     ]
    }
   ],
   "source": [
    "print(\"navya\")"
   ]
  },
  {
   "cell_type": "code",
   "execution_count": 10,
   "metadata": {},
   "outputs": [
    {
     "name": "stdout",
     "output_type": "stream",
     "text": [
      "enter a number less than 34-- 25867\n",
      "data input is less than 34 and iam fine with it\n"
     ]
    }
   ],
   "source": [
    "a=int(input(\"enter a number less than 34-- \"))\n",
    "if a<34:\n",
    "    pass\n",
    "print(\"data input is less than 34 and iam fine with it\")"
   ]
  },
  {
   "cell_type": "code",
   "execution_count": 16,
   "metadata": {},
   "outputs": [
    {
     "name": "stdout",
     "output_type": "stream",
     "text": [
      "enter a number less than 34-- 75\n",
      "my data is less than 100\n"
     ]
    }
   ],
   "source": [
    "a=int(input(\"enter a number less than 34-- \"))\n",
    "if a<34:\n",
    "    print(\"data input is less than34\")\n",
    "elif a<100:\n",
    "    print(\"my data is less than 100\")\n",
    "else:\n",
    "    print(\"it is greter than the 34\")"
   ]
  },
  {
   "cell_type": "code",
   "execution_count": 23,
   "metadata": {},
   "outputs": [
    {
     "name": "stdout",
     "output_type": "stream",
     "text": [
      "enter your salary-10056\n",
      "i wiill be able to buy car\n",
      "i will go for card maruthi\n",
      "false code\n"
     ]
    }
   ],
   "source": [
    "salary = int(input(\"enter your salary-\"))\n",
    "if  (salary > 1000):\n",
    "    print(\"i wiill be able to buy car\")\n",
    "    if (salary>5000):\n",
    "        print(\"i will go for card maruthi\")\n",
    "        if True:\n",
    "            print(\"false code\")\n",
    "    elif (salary>10000):\n",
    "        print(\"i will go for nano\")\n",
    "    elif salary>50000:\n",
    "        print(\"i will buy toyota\")\n",
    "    else:\n",
    "        print(\"i will rent a car\")\n",
    "elif  salary > 500:\n",
    "    print(\"i will buy bike\")\n",
    "elif  salary > 100:\n",
    "    print(\" i will not buy anything \")\n",
    "else:\n",
    "    print(\"i will go for saving\")\n"
   ]
  },
  {
   "cell_type": "code",
   "execution_count": 24,
   "metadata": {},
   "outputs": [
    {
     "data": {
      "text/plain": [
       "True"
      ]
     },
     "execution_count": 24,
     "metadata": {},
     "output_type": "execute_result"
    }
   ],
   "source": [
    "salary>5000"
   ]
  },
  {
   "cell_type": "code",
   "execution_count": null,
   "metadata": {},
   "outputs": [],
   "source": []
  },
  {
   "cell_type": "code",
   "execution_count": null,
   "metadata": {},
   "outputs": [],
   "source": []
  },
  {
   "cell_type": "code",
   "execution_count": null,
   "metadata": {},
   "outputs": [],
   "source": []
  }
 ],
 "metadata": {
  "kernelspec": {
   "display_name": "Python 3",
   "language": "python",
   "name": "python3"
  },
  "language_info": {
   "codemirror_mode": {
    "name": "ipython",
    "version": 3
   },
   "file_extension": ".py",
   "mimetype": "text/x-python",
   "name": "python",
   "nbconvert_exporter": "python",
   "pygments_lexer": "ipython3",
   "version": "3.8.5"
  }
 },
 "nbformat": 4,
 "nbformat_minor": 4
}
