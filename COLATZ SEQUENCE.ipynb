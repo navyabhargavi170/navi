{
 "cells": [
  {
   "cell_type": "markdown",
   "id": "94b5ab76",
   "metadata": {},
   "source": [
    "# COLATZ SEQUENCE"
   ]
  },
  {
   "cell_type": "code",
   "execution_count": null,
   "id": "c27f4f33",
   "metadata": {},
   "outputs": [],
   "source": [
    "def colatz(num):\n",
    "    try :\n",
    "        a = int(num)\n",
    "        while a!=1:\n",
    "            print(a)\n",
    "            if a%2==0:\n",
    "                a= a//2\n",
    "            else:\n",
    "                a=3*a+1\n",
    "        print(a)\n",
    "    except ValueError:\n",
    "        print(\"you have entered a string instead of integer\")\n",
    "        \n",
    "b = input(\"enter number : \")\n",
    "colatz(b)"
   ]
  },
  {
   "cell_type": "code",
   "execution_count": null,
   "id": "78544fdf",
   "metadata": {},
   "outputs": [],
   "source": []
  },
  {
   "cell_type": "code",
   "execution_count": null,
   "id": "3b2c8035",
   "metadata": {},
   "outputs": [],
   "source": []
  }
 ],
 "metadata": {
  "kernelspec": {
   "display_name": "Python 3 (ipykernel)",
   "language": "python",
   "name": "python3"
  },
  "language_info": {
   "codemirror_mode": {
    "name": "ipython",
    "version": 3
   },
   "file_extension": ".py",
   "mimetype": "text/x-python",
   "name": "python",
   "nbconvert_exporter": "python",
   "pygments_lexer": "ipython3",
   "version": "3.9.7"
  }
 },
 "nbformat": 4,
 "nbformat_minor": 5
}
