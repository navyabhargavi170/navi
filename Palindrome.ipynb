{
 "cells": [
  {
   "cell_type": "markdown",
   "id": "c07841bc",
   "metadata": {},
   "source": [
    "# Palindrome"
   ]
  },
  {
   "cell_type": "code",
   "execution_count": null,
   "id": "bf80c8fd",
   "metadata": {},
   "outputs": [],
   "source": [
    "#it takes value from user and turn all the letters into upper case\n",
    "value = input(\"Enter a data to check whether it is a Palindrom: \").upper()\n",
    "\n",
    "#two empty string variables\n",
    "a,b='',''\n",
    "\n",
    "#vowels \n",
    "vowels = \"AaEeIiOoUu\"\n",
    "\n",
    "#using for loop to reverse the given string \n",
    "for i in range(1,len(value)+1):\n",
    "    #storing the value in a\n",
    "    a = (a+value[-i]).upper()\n",
    "\n",
    "#condition to check the user input and its reverse value is same,if same it will go through the if statment\n",
    "if value == a:\n",
    "    print(\"{} is a palindrome\".format(value))\n",
    "#forloop to iterate the user value, to find the vowels\n",
    "    for j in value:\n",
    "#if condition to match the vowels\n",
    "        if j in vowels:\n",
    "            b=(b+j).upper()\n",
    "#c is another variable to store the vowels present in the palindrome, join with \",\" and store it in a list by using split()\n",
    "            c=','.join(b).split()\n",
    "\n",
    "    print(c,\"These are the vowels present in palindrome\",value)\n",
    "\n",
    "#this is the elsecondition to execute if the given value is not palindrome\n",
    "else:\n",
    "    print(\"{} is not a palindrome\".format(value))"
   ]
  },
  {
   "cell_type": "markdown",
   "id": "72bf5254",
   "metadata": {},
   "source": [
    "Here i use some function like\n",
    "input() - It takes input from user, for default it is a string,if we want to convert to another datatype like int,float we use type casting.\n",
    "\n",
    "for loop - It is a iteration function , to print each and every value single value.\n",
    "\n",
    "len() - It is used to find how many values present in a string,list and so on.\n",
    "\n",
    "upper() - It is one of the built-in-function in string,it converts string to capitals.\n",
    "\n",
    "format() - It is one of the function to print values.\n",
    "\n",
    "if and else statement - These are conditional functions, the if statement executes only when the given condition is true, if false the else statment will execute. We dont write any condition to else statement.\n",
    "\n",
    "join() - It is also a string function to join with some value.\n",
    "\n",
    "split() - This function will split the string to list."
   ]
  }
 ],
 "metadata": {
  "kernelspec": {
   "display_name": "Python 3",
   "language": "python",
   "name": "python3"
  },
  "language_info": {
   "codemirror_mode": {
    "name": "ipython",
    "version": 3
   },
   "file_extension": ".py",
   "mimetype": "text/x-python",
   "name": "python",
   "nbconvert_exporter": "python",
   "pygments_lexer": "ipython3",
   "version": "3.8.8"
  }
 },
 "nbformat": 4,
 "nbformat_minor": 5
}
